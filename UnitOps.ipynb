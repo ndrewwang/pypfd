{
 "cells": [
  {
   "cell_type": "code",
   "execution_count": 3,
   "id": "c13c1ee0-273a-4c3a-b3a8-79cc9850c040",
   "metadata": {},
   "outputs": [],
   "source": [
    "#Load dependences\n",
    "import sys\n",
    "from datetime import datetime\n",
    "from dotmap import DotMap\n",
    "import os\n",
    "from os import path\n",
    "import datetime\n",
    "from bs4 import BeautifulSoup\n",
    "import pandas as pd\n",
    "import re\n",
    "\n",
    "#Local modules\n",
    "import functions.simplepfd as simplepfd #Package from https://github.com/aslake/simplepfd\n",
    "import functions.simplepfd_wrapper as pfd #Wrapper for this\n",
    "\n",
    "#Plotting drawio \n",
    "from IPython.display import display, update_display\n",
    "MIMETYPE = \"application/x-drawio\" #pip install https://github.com/deathbeds/ipydrawio\n",
    "\n"
   ]
  },
  {
   "cell_type": "code",
   "execution_count": 4,
   "id": "470b34aa-cde0-4ee6-a122-8a0105c243a6",
   "metadata": {},
   "outputs": [
    {
     "data": {
      "application/x-drawio": "<?xml version=\"1.0\" encoding=\"UTF-8\"?><mxfile host=\"app.diagrams.net\" modified=\"2022-11-10 10:29:03.767342\" agent=\"pchemeng.tools.simplepfd\" etag=\"Ym8JUHmCbybyuN_C31Ly\" version=\"12.9.13\" type=\"device\"><diagram id=\"S1Gz87AjEctzsXtTaDJA\" name=\"Page-1\"><mxGraphModel dx=\"1422\" dy=\"757\" grid=\"1\" gridSize=\"10\" guides=\"1\" tooltips=\"1\" connect=\"1\" arrows=\"1\" fold=\"1\" page=\"1\" pageScale=\"1\" pageWidth=\"850\" pageHeight=\"1100\" math=\"0\" shadow=\"0\"><root><mxCell id=\"0\" /><mxCell id=\"1\" parent=\"0\" /><mxCell id=\"&lt;b&gt;3&lt;/b&gt;\" value=\"&lt;b&gt;3&lt;/b&gt;\" type=\"Line\" style=\"edgeStyle=orthogonalEdgeStyle;rounded=0;orthogonalLoop=1;jettySize=auto;html=1;movableLabel=1;exitX=1;exitY=0.5;exitDx=0;exitDy=0;jumpStyle=gap;jumpSize=10;strokeWidth=1;strokeColor=black;noLabel=1;fontColor=none;\" parent=\"1\" source=\"&lt;b&gt;Filtration&lt;/b&gt;\" target=\"&lt;b&gt;Leach&lt;/b&gt;\" edge=\"1\"><mxGeometry relative=\"1\" as=\"geometry\"/></mxCell><mxCell id=\"&lt;b&gt;Carbon&lt;/b&gt;\" value=\"&lt;b&gt;Carbon&lt;/b&gt;\" type=\"Line\" style=\"edgeStyle=orthogonalEdgeStyle;rounded=0;orthogonalLoop=1;jettySize=auto;html=1;movableLabel=1;exitX=1;exitY=0.5;exitDx=0;exitDy=0;jumpStyle=gap;jumpSize=10;strokeWidth=1;strokeColor=black;noLabel=0;\" parent=\"1\" source=\"&lt;b&gt;Filtration&lt;/b&gt;\" target=\"&lt;b&gt;2&lt;/b&gt;\" edge=\"1\"><mxGeometry relative=\"1\" as=\"geometry\"/></mxCell><mxCell id=\"&lt;b&gt;2&lt;/b&gt;\" value=\"\" type=\"Unit\" style=\"whiteSpace=wrap;html=1;movableLabel=1;aspect=fixed;strokeColor=none;fillColor=none;\" parent=\"1\" vertex=\"1\"><mxGeometry x=\"290\" y=\"190\" width=\"80\" height=\"80\" as=\"geometry\" /></mxCell><mxCell id=\"&lt;b&gt;Filtration&lt;/b&gt;\" value=\"&lt;b&gt;Filtration&lt;/b&gt;\" type=\"Unit\" style=\"whiteSpace=wrap;html=1;movableLabel=1;aspect=fixed;\" parent=\"1\" vertex=\"1\"><mxGeometry x=\"290\" y=\"190\" width=\"80\" height=\"80\" as=\"geometry\" /></mxCell><mxCell id=\"&lt;b&gt;Leachant TESTEST&lt;/b&gt;&lt;br&gt;H2SO4&lt;br&gt;H2O2\" value=\"&lt;b&gt;Leachant TESTEST&lt;/b&gt;&lt;br&gt;H2SO4&lt;br&gt;H2O2\" type=\"Line\" style=\"edgeStyle=orthogonalEdgeStyle;rounded=0;orthogonalLoop=1;jettySize=auto;html=1;movableLabel=1;exitX=1;exitY=0.5;exitDx=0;exitDy=0;jumpStyle=gap;jumpSize=10;strokeWidth=1;strokeColor=black;noLabel=0;\" parent=\"1\" source=\"&lt;b&gt;1&lt;/b&gt;\" target=\"&lt;b&gt;Leach&lt;/b&gt;\" edge=\"1\"><mxGeometry relative=\"1\" as=\"geometry\"/></mxCell><mxCell id=\"&lt;b&gt;1&lt;/b&gt;\" value=\"\" type=\"Unit\" style=\"whiteSpace=wrap;html=1;movableLabel=1;aspect=fixed;strokeColor=none;fillColor=none;\" parent=\"1\" vertex=\"1\"><mxGeometry x=\"290\" y=\"190\" width=\"80\" height=\"80\" as=\"geometry\" /></mxCell><mxCell id=\"&lt;b&gt;Leach&lt;/b&gt;\" value=\"&lt;b&gt;Leach&lt;/b&gt;\" type=\"Unit\" style=\"whiteSpace=wrap;html=1;movableLabel=1;aspect=fixed;\" parent=\"1\" vertex=\"1\"><mxGeometry x=\"290\" y=\"190\" width=\"80\" height=\"80\" as=\"geometry\" /></mxCell></root></mxGraphModel></diagram></mxfile>"
     },
     "metadata": {
      "application/x-drawio": {
       "drawioUrlParams": {
        "chrome": 1,
        "ui": "dark"
       },
       "height": "500px"
      }
     },
     "output_type": "display_data"
    }
   ],
   "source": [
    "#BLOCK 1: ACID LEACH + CARBON FILTRATION\n",
    "#=========================================\n",
    "x = DotMap()\n",
    "x.LEACH = pfd.Unit(['Leach'])\n",
    "x.LEACHINPUT1 = pfd.In(['1'], show=False)\n",
    "x.F1 = pfd.Flow(['Leachant TESTEST','H2SO4','H2O2'],x.LEACHINPUT1,x.LEACH)\n",
    "x.CARBON = pfd.Unit(['Filtration'])\n",
    "x.CARBONOUT = pfd.Out(['2'], show=False)\n",
    "x.F2 = pfd.Flow(['Carbon'],x.CARBON,x.CARBONOUT)\n",
    "x.F3 = pfd.Flow(['3'],x.CARBON,x.LEACH, show=False)\n",
    "FILTER_LEACH = x\n",
    "\n",
    "components = pfd.Components([x])\n",
    "xmlstr = pfd.write_xml(components) #get xml string only\n",
    "pfd.Display(xmlstr,height='500px')"
   ]
  },
  {
   "cell_type": "code",
   "execution_count": 6,
   "id": "2646121b-8353-4b02-85e0-1fceba4d27ce",
   "metadata": {},
   "outputs": [
    {
     "data": {
      "application/x-drawio": "<?xml version=\"1.0\" encoding=\"UTF-8\"?><mxfile host=\"app.diagrams.net\" modified=\"2022-11-10 10:31:35.506788\" agent=\"pchemeng.tools.simplepfd\" etag=\"Ym8JUHmCbybyuN_C31Ly\" version=\"12.9.13\" type=\"device\"><diagram id=\"S1Gz87AjEctzsXtTaDJA\" name=\"Page-1\"><mxGraphModel dx=\"1422\" dy=\"757\" grid=\"1\" gridSize=\"10\" guides=\"1\" tooltips=\"1\" connect=\"1\" arrows=\"1\" fold=\"1\" page=\"1\" pageScale=\"1\" pageWidth=\"850\" pageHeight=\"1100\" math=\"0\" shadow=\"0\"><root><mxCell id=\"0\" /><mxCell id=\"1\" parent=\"0\" /><mxCell id=\"&lt;b&gt;Out gas&lt;/b&gt;&lt;br&gt;organics&lt;br&gt;fluoride\" value=\"&lt;b&gt;Out gas&lt;/b&gt;&lt;br&gt;organics&lt;br&gt;fluoride\" type=\"Line\" style=\"edgeStyle=orthogonalEdgeStyle;rounded=0;orthogonalLoop=1;jettySize=auto;html=1;movableLabel=1;exitX=1;exitY=0.5;exitDx=0;exitDy=0;jumpStyle=gap;jumpSize=10;strokeWidth=1;strokeColor=black;noLabel=0;\" parent=\"1\" source=\"&lt;b&gt;Thermal treatment&lt;/b&gt;\" target=\"&lt;b&gt;5&lt;/b&gt;\" edge=\"1\"><mxGeometry relative=\"1\" as=\"geometry\"/></mxCell><mxCell id=\"&lt;b&gt;Black mass&lt;/b&gt;\" value=\"&lt;b&gt;Black mass&lt;/b&gt;\" type=\"Line\" style=\"edgeStyle=orthogonalEdgeStyle;rounded=0;orthogonalLoop=1;jettySize=auto;html=1;movableLabel=1;exitX=1;exitY=0.5;exitDx=0;exitDy=0;jumpStyle=gap;jumpSize=10;strokeWidth=1;strokeColor=black;noLabel=0;\" parent=\"1\" source=\"&lt;b&gt;4&lt;/b&gt;\" target=\"&lt;b&gt;Thermal treatment&lt;/b&gt;\" edge=\"1\"><mxGeometry relative=\"1\" as=\"geometry\"/></mxCell><mxCell id=\"&lt;b&gt;5&lt;/b&gt;\" value=\"\" type=\"Unit\" style=\"whiteSpace=wrap;html=1;movableLabel=1;aspect=fixed;strokeColor=none;fillColor=none;\" parent=\"1\" vertex=\"1\"><mxGeometry x=\"290\" y=\"190\" width=\"80\" height=\"80\" as=\"geometry\" /></mxCell><mxCell id=\"&lt;b&gt;Thermal treatment&lt;/b&gt;\" value=\"&lt;b&gt;Thermal treatment&lt;/b&gt;\" type=\"Unit\" style=\"whiteSpace=wrap;html=1;movableLabel=1;aspect=fixed;\" parent=\"1\" vertex=\"1\"><mxGeometry x=\"290\" y=\"190\" width=\"80\" height=\"80\" as=\"geometry\" /></mxCell><mxCell id=\"&lt;b&gt;4&lt;/b&gt;\" value=\"\" type=\"Unit\" style=\"whiteSpace=wrap;html=1;movableLabel=1;aspect=fixed;strokeColor=none;fillColor=none;\" parent=\"1\" vertex=\"1\"><mxGeometry x=\"290\" y=\"190\" width=\"80\" height=\"80\" as=\"geometry\" /></mxCell></root></mxGraphModel></diagram></mxfile>"
     },
     "metadata": {
      "application/x-drawio": {
       "drawioUrlParams": {
        "chrome": 1,
        "ui": "dark"
       },
       "height": "500px"
      }
     },
     "output_type": "display_data"
    }
   ],
   "source": [
    "#BLOCK 2: THERMAL PRETREAMENT\n",
    "#========================================\n",
    "x = DotMap()\n",
    "x.INPUT = pfd.In(['4'], show=False)\n",
    "x.THERMAL = pfd.Unit(['Thermal treatment'])\n",
    "x.OUT = pfd.Out(['5'], show=False)\n",
    "x.F1 = pfd.Flow(['Black mass'], x.INPUT, x.THERMAL)\n",
    "x.F2 = pfd.Flow(['Out gas','organics','fluoride'], x.THERMAL, x.OUT)\n",
    "THERMAL = x\n",
    "\n",
    "components = pfd.Components([x])\n",
    "xmlstr = pfd.write_xml(components) #get xml string only\n",
    "pfd.Display(xmlstr,height='500px')"
   ]
  },
  {
   "cell_type": "code",
   "execution_count": 7,
   "id": "386f5072-2ebc-4a96-bd74-caea3ddce5d3",
   "metadata": {},
   "outputs": [
    {
     "name": "stdout",
     "output_type": "stream",
     "text": [
      "New Process Flow Diagram written to \"pfd.xml\". Open in https://app.diagrams.net/ for editing. Export as uncompressed XML for keeping editable PFD format.\n"
     ]
    },
    {
     "data": {
      "application/x-drawio": "<?xml version=\"1.0\" encoding=\"UTF-8\"?><mxfile host=\"app.diagrams.net\" modified=\"2022-11-10 10:31:39.092578\" agent=\"pchemeng.tools.simplepfd\" etag=\"Ym8JUHmCbybyuN_C31Ly\" version=\"12.9.13\" type=\"device\"><diagram id=\"S1Gz87AjEctzsXtTaDJA\" name=\"Page-1\"><mxGraphModel dx=\"1422\" dy=\"757\" grid=\"1\" gridSize=\"10\" guides=\"1\" tooltips=\"1\" connect=\"1\" arrows=\"1\" fold=\"1\" page=\"1\" pageScale=\"1\" pageWidth=\"850\" pageHeight=\"1100\" math=\"0\" shadow=\"0\"><root><mxCell id=\"0\" /><mxCell id=\"1\" parent=\"0\" /><mxCell id=\"&lt;b&gt;6&lt;/b&gt;\" value=\"&lt;b&gt;6&lt;/b&gt;\" type=\"Line\" style=\"edgeStyle=orthogonalEdgeStyle;rounded=0;orthogonalLoop=1;jettySize=auto;html=1;movableLabel=1;exitX=1;exitY=0.5;exitDx=0;exitDy=0;jumpStyle=gap;jumpSize=10;strokeWidth=1;strokeColor=black;noLabel=1;fontColor=none;\" parent=\"1\" source=\"&lt;b&gt;Thermal treatment&lt;/b&gt;\" target=\"&lt;b&gt;Filtration&lt;/b&gt;\" edge=\"1\"><mxGeometry relative=\"1\" as=\"geometry\"/></mxCell><mxCell id=\"&lt;b&gt;3&lt;/b&gt;\" value=\"&lt;b&gt;3&lt;/b&gt;\" type=\"Line\" style=\"edgeStyle=orthogonalEdgeStyle;rounded=0;orthogonalLoop=1;jettySize=auto;html=1;movableLabel=1;exitX=1;exitY=0.5;exitDx=0;exitDy=0;jumpStyle=gap;jumpSize=10;strokeWidth=1;strokeColor=black;noLabel=1;fontColor=none;\" parent=\"1\" source=\"&lt;b&gt;Filtration&lt;/b&gt;\" target=\"&lt;b&gt;Leach&lt;/b&gt;\" edge=\"1\"><mxGeometry relative=\"1\" as=\"geometry\"/></mxCell><mxCell id=\"&lt;b&gt;Carbon&lt;/b&gt;\" value=\"&lt;b&gt;Carbon&lt;/b&gt;\" type=\"Line\" style=\"edgeStyle=orthogonalEdgeStyle;rounded=0;orthogonalLoop=1;jettySize=auto;html=1;movableLabel=1;exitX=1;exitY=0.5;exitDx=0;exitDy=0;jumpStyle=gap;jumpSize=10;strokeWidth=1;strokeColor=black;noLabel=0;\" parent=\"1\" source=\"&lt;b&gt;Filtration&lt;/b&gt;\" target=\"&lt;b&gt;2&lt;/b&gt;\" edge=\"1\"><mxGeometry relative=\"1\" as=\"geometry\"/></mxCell><mxCell id=\"&lt;b&gt;2&lt;/b&gt;\" value=\"\" type=\"Unit\" style=\"whiteSpace=wrap;html=1;movableLabel=1;aspect=fixed;strokeColor=none;fillColor=none;\" parent=\"1\" vertex=\"1\"><mxGeometry x=\"290\" y=\"190\" width=\"80\" height=\"80\" as=\"geometry\" /></mxCell><mxCell id=\"&lt;b&gt;Filtration&lt;/b&gt;\" value=\"&lt;b&gt;Filtration&lt;/b&gt;\" type=\"Unit\" style=\"whiteSpace=wrap;html=1;movableLabel=1;aspect=fixed;\" parent=\"1\" vertex=\"1\"><mxGeometry x=\"290\" y=\"190\" width=\"80\" height=\"80\" as=\"geometry\" /></mxCell><mxCell id=\"&lt;b&gt;Leachant TESTEST&lt;/b&gt;&lt;br&gt;H2SO4&lt;br&gt;H2O2\" value=\"&lt;b&gt;Leachant TESTEST&lt;/b&gt;&lt;br&gt;H2SO4&lt;br&gt;H2O2\" type=\"Line\" style=\"edgeStyle=orthogonalEdgeStyle;rounded=0;orthogonalLoop=1;jettySize=auto;html=1;movableLabel=1;exitX=1;exitY=0.5;exitDx=0;exitDy=0;jumpStyle=gap;jumpSize=10;strokeWidth=1;strokeColor=black;noLabel=0;\" parent=\"1\" source=\"&lt;b&gt;1&lt;/b&gt;\" target=\"&lt;b&gt;Leach&lt;/b&gt;\" edge=\"1\"><mxGeometry relative=\"1\" as=\"geometry\"/></mxCell><mxCell id=\"&lt;b&gt;1&lt;/b&gt;\" value=\"\" type=\"Unit\" style=\"whiteSpace=wrap;html=1;movableLabel=1;aspect=fixed;strokeColor=none;fillColor=none;\" parent=\"1\" vertex=\"1\"><mxGeometry x=\"290\" y=\"190\" width=\"80\" height=\"80\" as=\"geometry\" /></mxCell><mxCell id=\"&lt;b&gt;Leach&lt;/b&gt;\" value=\"&lt;b&gt;Leach&lt;/b&gt;\" type=\"Unit\" style=\"whiteSpace=wrap;html=1;movableLabel=1;aspect=fixed;\" parent=\"1\" vertex=\"1\"><mxGeometry x=\"290\" y=\"190\" width=\"80\" height=\"80\" as=\"geometry\" /></mxCell><mxCell id=\"&lt;b&gt;Out gas&lt;/b&gt;&lt;br&gt;organics&lt;br&gt;fluoride\" value=\"&lt;b&gt;Out gas&lt;/b&gt;&lt;br&gt;organics&lt;br&gt;fluoride\" type=\"Line\" style=\"edgeStyle=orthogonalEdgeStyle;rounded=0;orthogonalLoop=1;jettySize=auto;html=1;movableLabel=1;exitX=1;exitY=0.5;exitDx=0;exitDy=0;jumpStyle=gap;jumpSize=10;strokeWidth=1;strokeColor=black;noLabel=0;\" parent=\"1\" source=\"&lt;b&gt;Thermal treatment&lt;/b&gt;\" target=\"&lt;b&gt;5&lt;/b&gt;\" edge=\"1\"><mxGeometry relative=\"1\" as=\"geometry\"/></mxCell><mxCell id=\"&lt;b&gt;Black mass&lt;/b&gt;\" value=\"&lt;b&gt;Black mass&lt;/b&gt;\" type=\"Line\" style=\"edgeStyle=orthogonalEdgeStyle;rounded=0;orthogonalLoop=1;jettySize=auto;html=1;movableLabel=1;exitX=1;exitY=0.5;exitDx=0;exitDy=0;jumpStyle=gap;jumpSize=10;strokeWidth=1;strokeColor=black;noLabel=0;\" parent=\"1\" source=\"&lt;b&gt;4&lt;/b&gt;\" target=\"&lt;b&gt;Thermal treatment&lt;/b&gt;\" edge=\"1\"><mxGeometry relative=\"1\" as=\"geometry\"/></mxCell><mxCell id=\"&lt;b&gt;5&lt;/b&gt;\" value=\"\" type=\"Unit\" style=\"whiteSpace=wrap;html=1;movableLabel=1;aspect=fixed;strokeColor=none;fillColor=none;\" parent=\"1\" vertex=\"1\"><mxGeometry x=\"290\" y=\"190\" width=\"80\" height=\"80\" as=\"geometry\" /></mxCell><mxCell id=\"&lt;b&gt;Thermal treatment&lt;/b&gt;\" value=\"&lt;b&gt;Thermal treatment&lt;/b&gt;\" type=\"Unit\" style=\"whiteSpace=wrap;html=1;movableLabel=1;aspect=fixed;\" parent=\"1\" vertex=\"1\"><mxGeometry x=\"290\" y=\"190\" width=\"80\" height=\"80\" as=\"geometry\" /></mxCell><mxCell id=\"&lt;b&gt;4&lt;/b&gt;\" value=\"\" type=\"Unit\" style=\"whiteSpace=wrap;html=1;movableLabel=1;aspect=fixed;strokeColor=none;fillColor=none;\" parent=\"1\" vertex=\"1\"><mxGeometry x=\"290\" y=\"190\" width=\"80\" height=\"80\" as=\"geometry\" /></mxCell></root></mxGraphModel></diagram></mxfile>"
     },
     "metadata": {
      "application/x-drawio": {
       "drawioUrlParams": {
        "chrome": 1,
        "ui": "dark"
       },
       "height": "500px"
      }
     },
     "output_type": "display_data"
    }
   ],
   "source": [
    "#BLOCK CONNECTION\n",
    "#========================================\n",
    "x = DotMap()\n",
    "x.F1 = pfd.Flow(['6'],  THERMAL.THERMAL,FILTER_LEACH.CARBON, show=False)\n",
    "CONNECTION = x\n",
    "components = pfd.Components([THERMAL, FILTER_LEACH, CONNECTION])\n",
    "export_name = 'pfd'\n",
    "filename = export_name + '.xml'\n",
    "# os.remove(\"pfd.xml\") #to continuously overwrite\n",
    "xmlstr= pfd.write_pfd(filename, components) #WRITE LOCAL XML FILE\n",
    "# xmlstr = pfd.write_xml(components)\n",
    "# filename = '' + export_name + '_' + datetime.now().strftime(\"%Y%m%d%H%M%S\") + '.xml' #FILENAME WITH DATETIME STR\n",
    "pfd.Display(xmlstr,height='500px')"
   ]
  },
  {
   "cell_type": "code",
   "execution_count": null,
   "id": "4354b36f-ce0b-4e5b-b5c4-c644a8327434",
   "metadata": {},
   "outputs": [],
   "source": []
  }
 ],
 "metadata": {
  "kernelspec": {
   "display_name": "Python 3 (ipykernel)",
   "language": "python",
   "name": "python3"
  },
  "language_info": {
   "codemirror_mode": {
    "name": "ipython",
    "version": 3
   },
   "file_extension": ".py",
   "mimetype": "text/x-python",
   "name": "python",
   "nbconvert_exporter": "python",
   "pygments_lexer": "ipython3",
   "version": "3.11.0"
  }
 },
 "nbformat": 4,
 "nbformat_minor": 5
}
